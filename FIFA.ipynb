{
 "cells": [
  {
   "cell_type": "markdown",
   "metadata": {},
   "source": [
    "### DEPENDENCIES"
   ]
  },
  {
   "cell_type": "code",
   "execution_count": null,
   "metadata": {},
   "outputs": [],
   "source": [
    "import pandas as pd\n",
    "import requests\n",
    "import json\n",
    "import csv\n",
    "import os\n",
    "from sqlalchemy import create_engine\n",
    "import config"
   ]
  },
  {
   "cell_type": "markdown",
   "metadata": {},
   "source": [
    "### Extract CSVs into DataFrames"
   ]
  },
  {
   "cell_type": "code",
   "execution_count": null,
   "metadata": {},
   "outputs": [],
   "source": [
    "#https://www.kaggle.com/abecklas/fifa-world-cup/version/5#WorldCups.csv\n",
    "#All the countries that have hosted the world cup from the first one until 2014\n",
    "#world = \"\\\\Users\\dharti.patel\\Documents\\Repositories\\ETL-project\\Resources\\WorldCups.csv\"\n",
    "world = \"Resources/WorldCups.csv\"\n",
    "world_df = pd.read_csv(world)"
   ]
  },
  {
   "cell_type": "code",
   "execution_count": null,
   "metadata": {},
   "outputs": [],
   "source": [
    "#https://www.kaggle.com/stefanoleone992/fifa-20-complete-player-dataset#players_20.csv \n",
    "#\"Every player available in FIFA 15, 16, 17, 18, 19, and also FIFA 20\"\n",
    "players = \"Resources/players_20.csv\"\n",
    "players_df = pd.read_csv(players)"
   ]
  },
  {
   "cell_type": "code",
   "execution_count": null,
   "metadata": {},
   "outputs": [],
   "source": [
    "url = pd.read_html(\"https://en.wikipedia.org/wiki/FIFA_Club_World_Cup\")"
   ]
  },
  {
   "cell_type": "markdown",
   "metadata": {},
   "source": [
    "### Transform World Cup DataFrame"
   ]
  },
  {
   "cell_type": "code",
   "execution_count": null,
   "metadata": {},
   "outputs": [],
   "source": [
    "world_df[['Year','Country']]"
   ]
  },
  {
   "cell_type": "code",
   "execution_count": null,
   "metadata": {},
   "outputs": [],
   "source": [
    "#Duplicating year 2002 when two countries hosted the World Cup\n",
    "dup = world_df['Country'] == 'Korea/Japan'\n",
    "dup_try = world_df[dup]\n",
    "world_df_dup=world_df.append([dup_try]*1,ignore_index=True)\n",
    "world_df_dup"
   ]
  },
  {
   "cell_type": "code",
   "execution_count": null,
   "metadata": {},
   "outputs": [],
   "source": [
    "#Segregating the year when Korea and Japan hosted the World Cup by renaming each row\n",
    "world_df_dup.loc[16,'Country'] = 'Korea Republic'\n",
    "world_df_dup.loc[20,'Country'] = 'Japan'\n",
    "world_df_dup"
   ]
  },
  {
   "cell_type": "code",
   "execution_count": null,
   "metadata": {},
   "outputs": [],
   "source": [
    "#Checking the Country Names\n",
    "world_df_dup['Country'].unique()"
   ]
  },
  {
   "cell_type": "markdown",
   "metadata": {},
   "source": [
    "### Transform Players DataFrame"
   ]
  },
  {
   "cell_type": "code",
   "execution_count": null,
   "metadata": {},
   "outputs": [],
   "source": [
    "players_df.head()"
   ]
  },
  {
   "cell_type": "code",
   "execution_count": null,
   "metadata": {},
   "outputs": [],
   "source": [
    "# players_df[players_df['nationality'] == 'United States'].replace(\"USA\")"
   ]
  },
  {
   "cell_type": "code",
   "execution_count": null,
   "metadata": {},
   "outputs": [],
   "source": [
    "players_df.loc[players_df.nationality == 'United States', 'nationality'] = \"USA\"\n",
    "players_df['nationality'].unique()"
   ]
  },
  {
   "cell_type": "code",
   "execution_count": null,
   "metadata": {},
   "outputs": [],
   "source": [
    "# Selecting only the columns that I want\n",
    "players_df = players_df[[\"long_name\", \"club\", \"joined\"]]\n",
    "players_df"
   ]
  },
  {
   "cell_type": "markdown",
   "metadata": {},
   "source": [
    "### Transform Clubs DataFrame"
   ]
  },
  {
   "cell_type": "code",
   "execution_count": null,
   "metadata": {},
   "outputs": [],
   "source": [
    "clubs_country = url[3]\n",
    "# clubs_country = pd.DataFrame(clubs_country) # Alap: This is not needed since read_html gives you DataFrame object.\n",
    "clubs_country = clubs_country[[\"Season\", \"Hosts\", \"Champions\"]]\n",
    "clubs_country = clubs_country.rename(columns={\"Champions\" : \"club\"})\n",
    "clubs_country"
   ]
  },
  {
   "cell_type": "code",
   "execution_count": null,
   "metadata": {},
   "outputs": [],
   "source": [
    "# Creating a Roster of 2018 winning team and when the players join the team\n",
    "\n",
    "# Merging DataFrames clubs_country and players_df\n",
    "pyr_ctry_m = pd.merge(clubs_country, players_df, on=\"club\")\n",
    "\n",
    "# Filtering for 2018\n",
    "pyr_ctry_m = pyr_ctry_m.loc[pyr_ctry_m[\"Season\"] == 2018,:]\n",
    "\n",
    "# Renaming long_name header to Roster\n",
    "pyr_ctry_m = pyr_ctry_m.rename(columns={\"long_name\" : \"Roster\", \"joined\" : \"Joined\"})\n",
    "pyr_ctry_m"
   ]
  },
  {
   "cell_type": "markdown",
   "metadata": {},
   "source": [
    "### Create database connection"
   ]
  },
  {
   "cell_type": "code",
   "execution_count": null,
   "metadata": {},
   "outputs": [],
   "source": [
    "username = config.username\n",
    "password = config.password\n",
    "database = config.database\n",
    "\n",
    "rds_connection_string = f\"{username}:{password}@localhost:5432/{database}\"\n",
    "engine = create_engine(f'postgresql://{rds_connection_string}')\n",
    "engine"
   ]
  },
  {
   "cell_type": "markdown",
   "metadata": {},
   "source": [
    "### Load DataFrames into database"
   ]
  },
  {
   "cell_type": "code",
   "execution_count": null,
   "metadata": {},
   "outputs": [],
   "source": [
    "world_df_dup.to_sql(name='world_cup', con=engine, if_exists='replace', index=False)\n",
    "world=pd.read_sql_query('select * from world_cup', con=engine).head()\n",
    "world"
   ]
  },
  {
   "cell_type": "code",
   "execution_count": null,
   "metadata": {},
   "outputs": [],
   "source": [
    "players_df.to_sql(name='players', con=engine, if_exists='replace', index=False)\n",
    "players=pd.read_sql_query('select * from players', con=engine).head()\n",
    "players"
   ]
  },
  {
   "cell_type": "markdown",
   "metadata": {},
   "source": [
    "### Analytics questions: What is the ratio of players nationality and the number of times those countries have hosted the World Cup?"
   ]
  },
  {
   "cell_type": "code",
   "execution_count": null,
   "metadata": {},
   "outputs": [],
   "source": [
    "analytics=pd.read_sql_query(\"\"\"select *\n",
    "                            from (\n",
    "                                select b.nationality, count(b.sofifa_id) as no_of_playersfromcountry\n",
    "                                from players as b\n",
    "                                group by b.nationality\n",
    "                                ) a\n",
    "                            full outer join (\n",
    "                                select distinct a.\"Country\", count(*) as no_times_host \n",
    "                                from world_cup as a\n",
    "                                group by a.\"Country\"\n",
    "                                ) b\n",
    "                            on a.nationality = b.\"Country\"\n",
    "                            order by no_times_host asc\"\"\", con=engine)\n",
    "\n",
    "analytics.head(18)"
   ]
  },
  {
   "cell_type": "markdown",
   "metadata": {},
   "source": [
    "### Load DataFrames into CSV"
   ]
  },
  {
   "cell_type": "code",
   "execution_count": null,
   "metadata": {},
   "outputs": [],
   "source": [
    "clubs_file = \"Resources/clubs.csv\"\n",
    "# Outputting DataFrame to csv\n",
    "with open(clubs_file, 'w') as csv_file:\n",
    "    clubs_country.to_csv(csv_file, index=False)"
   ]
  }
 ],
 "metadata": {
  "kernelspec": {
   "display_name": "Python 3",
   "language": "python",
   "name": "python3"
  },
  "language_info": {
   "codemirror_mode": {
    "name": "ipython",
    "version": 3
   },
   "file_extension": ".py",
   "mimetype": "text/x-python",
   "name": "python",
   "nbconvert_exporter": "python",
   "pygments_lexer": "ipython3",
   "version": "3.7.4"
  }
 },
 "nbformat": 4,
 "nbformat_minor": 4
}
